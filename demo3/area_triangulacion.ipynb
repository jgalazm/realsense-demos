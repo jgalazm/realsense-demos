{
 "cells": [
  {
   "cell_type": "code",
   "execution_count": 1,
   "metadata": {},
   "outputs": [],
   "source": [
    "import numpy as np \n",
    "import matplotlib.pyplot as plt\n",
    "%matplotlib notebook"
   ]
  },
  {
   "cell_type": "code",
   "execution_count": 2,
   "metadata": {},
   "outputs": [
    {
     "data": {
      "text/plain": [
       "<matplotlib.collections.QuadMesh at 0x7f7ceafaf810>"
      ]
     },
     "execution_count": 2,
     "metadata": {},
     "output_type": "execute_result"
    },
    {
     "data": {
      "image/png": "[encoded data removed]",
      "text/plain": [
       "<Figure size 432x288 with 1 Axes>"
      ]
     },
     "metadata": {},
     "output_type": "display_data"
    }
   ],
   "source": [
    "x = np.linspace(0,1,8)-0.5\n",
    "y = np.linspace(0,1,8)-0.5\n",
    "x,y = np.meshgrid(x,y,indexing='ij')\n",
    "z = np.cos(x*np.pi*2)*np.sin(y*np.pi*2)\n",
    "# z = (x*x+y*y)/0.5/0.5\n",
    "plt.pcolormesh(x,y,z)"
   ]
  },
  {
   "cell_type": "markdown",
   "metadata": {},
   "source": [
    "# Triangulación 1"
   ]
  },
  {
   "cell_type": "markdown",
   "metadata": {},
   "source": [
    "Falla porque son tetraedros que no siempre están bien definidos y que no sabemos cuál cara es la correcta"
   ]
  },
  {
   "cell_type": "markdown",
   "metadata": {},
   "source": [
    "```python    \n",
    "from scipy.spatial import Delaunay\n",
    "pointcloud = np.vstack([x.ravel(),y.ravel(),z.ravel()]).T \n",
    "d_tri = Delaunay(pointcloud)\n",
    "d_triangles = d_tri.simplices.copy()\n",
    "d_puntos = pointcloud[d_triangles]\n",
    "```"
   ]
  },
  {
   "cell_type": "markdown",
   "metadata": {},
   "source": [
    "# Triangulación 2\n",
    "\n",
    "Usando\n",
    "/usr/local/lib/python2.7/dist-packages/matplotlib/triangulation.py \n",
    "\n",
    "pero al final usa Triangulation con $x,y$ solamente, para el caso de 4 puntos por fila en los triángulos. Esto puede fallar al ignorar el $z$"
   ]
  },
  {
   "cell_type": "markdown",
   "metadata": {},
   "source": [
    "```python\n",
    "from matplotlib.tri.triangulation import Triangulation\n",
    "\n",
    "\n",
    "args = [x.ravel(), y.ravel(), z.ravel()]\n",
    "kwargs = {\n",
    "  'triangles': d_triangles, \n",
    "  'cmap': plt.cm.gray  \n",
    "}\n",
    "\n",
    "tri, args, kwargs = Triangulation.get_from_args_and_kwargs(*args, **kwargs)\n",
    "\n",
    "ztri = np.asarray(args[0])\n",
    "# args = args[1:]\n",
    "\n",
    "triangles = tri.get_masked_triangles()\n",
    "\n",
    "xt = tri.x[triangles]\n",
    "yt = tri.y[triangles]\n",
    "zt = ztri[triangles]\n",
    "```"
   ]
  },
  {
   "cell_type": "markdown",
   "metadata": {},
   "source": [
    "# Triangulación final\n",
    "\n",
    "Hacer triangulación propia en la malla de coordendas de pixeles, esto es pq conocemos la topología de la malla, asumimos que pixeles vecinos son vecinos en la realidad. \n",
    "\n",
    "Notar que eje x está alineado con índice $i$"
   ]
  },
  {
   "cell_type": "code",
   "execution_count": 3,
   "metadata": {},
   "outputs": [],
   "source": [
    "nrows = x.shape[0]\n",
    "ncols = x.shape[1]\n",
    "pixel_i = np.linspace(1,nrows,nrows)\n",
    "pixel_j = np.linspace(1,ncols,ncols)\n",
    "pixel_i, pixel_j = np.meshgrid(pixel_i, pixel_j)"
   ]
  },
  {
   "cell_type": "code",
   "execution_count": 4,
   "metadata": {},
   "outputs": [],
   "source": [
    "from matplotlib.tri.triangulation import Triangulation\n",
    "\n",
    "triangulation = Triangulation(pixel_i.ravel(), pixel_j.ravel())\n",
    "\n",
    "triangles = triangulation.triangles"
   ]
  },
  {
   "cell_type": "code",
   "execution_count": 19,
   "metadata": {},
   "outputs": [],
   "source": [
    "xt = x.ravel()[triangles]\n",
    "yt = y.ravel()[triangles]\n",
    "zt = z.ravel()[triangles]"
   ]
  },
  {
   "cell_type": "code",
   "execution_count": 22,
   "metadata": {
    "scrolled": true
   },
   "outputs": [
    {
     "data": {
      "text/plain": [
       "array([[-0.35714286, -0.5       , -0.5       ],\n",
       "       [-0.5       , -0.35714286, -0.35714286],\n",
       "       [-0.21428571, -0.07142857, -0.21428571],\n",
       "       [-0.07142857, -0.07142857, -0.21428571],\n",
       "       [ 0.35714286,  0.21428571,  0.35714286],\n",
       "       [ 0.21428571,  0.21428571,  0.35714286],\n",
       "       [-0.07142857, -0.07142857,  0.07142857],\n",
       "       [ 0.07142857,  0.07142857, -0.07142857],\n",
       "       [ 0.07142857, -0.07142857, -0.07142857],\n",
       "       [-0.07142857,  0.07142857,  0.07142857],\n",
       "       [-0.21428571, -0.35714286, -0.35714286],\n",
       "       [-0.21428571, -0.35714286, -0.21428571],\n",
       "       [-0.07142857, -0.21428571, -0.21428571],\n",
       "       [-0.07142857, -0.21428571, -0.07142857],\n",
       "       [-0.07142857,  0.07142857,  0.07142857],\n",
       "       [-0.07142857,  0.07142857, -0.07142857],\n",
       "       [-0.21428571, -0.07142857, -0.07142857],\n",
       "       [-0.07142857, -0.21428571, -0.21428571],\n",
       "       [-0.35714286, -0.21428571, -0.35714286],\n",
       "       [-0.21428571, -0.21428571, -0.35714286],\n",
       "       [-0.35714286, -0.35714286, -0.5       ],\n",
       "       [-0.5       , -0.5       , -0.35714286],\n",
       "       [-0.07142857, -0.21428571, -0.21428571],\n",
       "       [-0.21428571, -0.07142857, -0.07142857],\n",
       "       [-0.35714286, -0.21428571, -0.35714286],\n",
       "       [-0.35714286, -0.21428571, -0.21428571],\n",
       "       [-0.5       , -0.35714286, -0.35714286],\n",
       "       [-0.35714286, -0.5       , -0.5       ],\n",
       "       [ 0.5       ,  0.35714286,  0.5       ],\n",
       "       [ 0.35714286,  0.35714286,  0.5       ],\n",
       "       [ 0.21428571,  0.07142857,  0.21428571],\n",
       "       [ 0.07142857,  0.07142857,  0.21428571],\n",
       "       [ 0.21428571,  0.35714286,  0.21428571],\n",
       "       [ 0.21428571,  0.35714286,  0.35714286],\n",
       "       [-0.07142857, -0.21428571, -0.07142857],\n",
       "       [-0.21428571, -0.21428571, -0.07142857],\n",
       "       [-0.07142857, -0.21428571, -0.21428571],\n",
       "       [-0.07142857, -0.21428571, -0.07142857],\n",
       "       [ 0.07142857, -0.07142857,  0.07142857],\n",
       "       [-0.07142857, -0.07142857,  0.07142857],\n",
       "       [ 0.07142857, -0.07142857, -0.07142857],\n",
       "       [ 0.07142857, -0.07142857,  0.07142857],\n",
       "       [ 0.07142857,  0.21428571,  0.21428571],\n",
       "       [ 0.21428571,  0.07142857,  0.07142857],\n",
       "       [-0.21428571, -0.21428571, -0.07142857],\n",
       "       [-0.21428571, -0.07142857, -0.07142857],\n",
       "       [-0.35714286, -0.5       , -0.5       ],\n",
       "       [-0.5       , -0.35714286, -0.35714286],\n",
       "       [-0.35714286, -0.35714286, -0.5       ],\n",
       "       [-0.5       , -0.5       , -0.35714286],\n",
       "       [-0.21428571, -0.21428571, -0.35714286],\n",
       "       [-0.35714286, -0.21428571, -0.35714286],\n",
       "       [-0.21428571, -0.21428571, -0.35714286],\n",
       "       [-0.35714286, -0.35714286, -0.21428571],\n",
       "       [ 0.5       ,  0.35714286,  0.35714286],\n",
       "       [ 0.35714286,  0.5       ,  0.5       ],\n",
       "       [-0.35714286, -0.5       , -0.5       ],\n",
       "       [-0.35714286, -0.35714286, -0.5       ],\n",
       "       [-0.21428571, -0.21428571, -0.35714286],\n",
       "       [-0.21428571, -0.35714286, -0.35714286],\n",
       "       [-0.35714286, -0.21428571, -0.21428571],\n",
       "       [-0.35714286, -0.35714286, -0.21428571],\n",
       "       [-0.5       , -0.5       , -0.35714286],\n",
       "       [-0.5       , -0.35714286, -0.35714286],\n",
       "       [ 0.35714286,  0.5       ,  0.5       ],\n",
       "       [ 0.35714286,  0.5       ,  0.35714286],\n",
       "       [ 0.07142857,  0.07142857, -0.07142857],\n",
       "       [-0.07142857, -0.07142857,  0.07142857],\n",
       "       [-0.07142857, -0.07142857,  0.07142857],\n",
       "       [ 0.07142857, -0.07142857,  0.07142857],\n",
       "       [ 0.07142857,  0.07142857,  0.21428571],\n",
       "       [ 0.21428571,  0.21428571,  0.07142857],\n",
       "       [ 0.21428571,  0.07142857,  0.07142857],\n",
       "       [ 0.07142857,  0.21428571,  0.21428571],\n",
       "       [ 0.35714286,  0.5       ,  0.5       ],\n",
       "       [ 0.5       ,  0.35714286,  0.35714286],\n",
       "       [ 0.35714286,  0.5       ,  0.35714286],\n",
       "       [ 0.35714286,  0.5       ,  0.5       ],\n",
       "       [ 0.21428571,  0.35714286,  0.35714286],\n",
       "       [ 0.35714286,  0.21428571,  0.21428571],\n",
       "       [ 0.35714286,  0.35714286,  0.21428571],\n",
       "       [ 0.21428571,  0.21428571,  0.35714286],\n",
       "       [ 0.21428571,  0.07142857,  0.07142857],\n",
       "       [ 0.07142857,  0.21428571,  0.21428571],\n",
       "       [ 0.35714286,  0.21428571,  0.21428571],\n",
       "       [ 0.21428571,  0.35714286,  0.35714286],\n",
       "       [ 0.21428571,  0.07142857,  0.21428571],\n",
       "       [ 0.21428571,  0.07142857,  0.07142857],\n",
       "       [ 0.07142857,  0.07142857,  0.21428571],\n",
       "       [ 0.07142857,  0.21428571,  0.21428571],\n",
       "       [ 0.35714286,  0.21428571,  0.21428571],\n",
       "       [ 0.35714286,  0.21428571,  0.35714286],\n",
       "       [ 0.35714286,  0.5       ,  0.35714286],\n",
       "       [ 0.35714286,  0.5       ,  0.5       ],\n",
       "       [ 0.5       ,  0.5       ,  0.35714286],\n",
       "       [ 0.5       ,  0.35714286,  0.35714286],\n",
       "       [ 0.35714286,  0.21428571,  0.35714286],\n",
       "       [ 0.35714286,  0.21428571,  0.21428571]])"
      ]
     },
     "execution_count": 22,
     "metadata": {},
     "output_type": "execute_result"
    }
   ],
   "source": [
    "xt"
   ]
  },
  {
   "cell_type": "code",
   "execution_count": 42,
   "metadata": {
    "scrolled": false
   },
   "outputs": [
    {
     "data": {
      "image/png": "[encoded data removed]",
      "text/plain": [
       "<Figure size 1152x576 with 1 Axes>"
      ]
     },
     "metadata": {},
     "output_type": "display_data"
    }
   ],
   "source": [
    "from mpl_toolkits.mplot3d import Axes3D\n",
    "\n",
    "\n",
    "fig = plt.figure(figsize=(4*4,2*4))\n",
    "ax = fig.add_subplot(1, 2, 1, projection='3d')\n",
    "a = ax.plot_trisurf(x.ravel(), y.ravel(), z.ravel(), triangles=triangles, cmap=plt.cm.gray,alpha=0.5,edgecolor=None)\n",
    "#     ax.scatter3D(xt[i],yt[i],zt[i],s=100)\n",
    "# ax.scatter3D(x.ravel(), y.ravel(), z.ravel())\n",
    "for i in range(3,5):\n",
    "    ax.scatter3D(xt[i],yt[i],zt[i],s=100,alpha=1)\n",
    "# fig.savefig('asdf.png',dpi=300)\n",
    "#     ax.set_xlabel('x')\n",
    "#     ax.set_ylabel('y')\n",
    "ax.view_init(elev=90., azim=-90)"
   ]
  },
  {
   "cell_type": "markdown",
   "metadata": {},
   "source": [
    "#  Seleccionar sólo triángulos dentro de un polígono\n",
    "\n",
    "Para ver qué puntos caen dentro de polígono:\n",
    "Probar en coordenadas de pixeles:\n",
    "\n",
    "https://stackoverflow.com/questions/36399381/whats-the-fastest-way-of-checking-if-a-point-is-inside-a-polygon-in-python\n"
   ]
  },
  {
   "cell_type": "code",
   "execution_count": 43,
   "metadata": {},
   "outputs": [
    {
     "ename": "ImportError",
     "evalue": "No module named shapely.geometry",
     "output_type": "error",
     "traceback": [
      "\u001b[0;31m---------------------------------------------------------------------------\u001b[0m",
      "\u001b[0;31mImportError\u001b[0m                               Traceback (most recent call last)",
      "\u001b[0;32m<ipython-input-43-7161705a66c7>\u001b[0m in \u001b[0;36m<module>\u001b[0;34m()\u001b[0m\n\u001b[0;32m----> 1\u001b[0;31m \u001b[0;32mfrom\u001b[0m \u001b[0mshapely\u001b[0m\u001b[0;34m.\u001b[0m\u001b[0mgeometry\u001b[0m \u001b[0;32mimport\u001b[0m \u001b[0mPoint\u001b[0m\u001b[0;34m\u001b[0m\u001b[0m\n\u001b[0m\u001b[1;32m      2\u001b[0m \u001b[0;32mfrom\u001b[0m \u001b[0mshapely\u001b[0m\u001b[0;34m.\u001b[0m\u001b[0mgeometry\u001b[0m\u001b[0;34m.\u001b[0m\u001b[0mpolygon\u001b[0m \u001b[0;32mimport\u001b[0m \u001b[0mPolygon\u001b[0m\u001b[0;34m\u001b[0m\u001b[0m\n\u001b[1;32m      3\u001b[0m \u001b[0;34m\u001b[0m\u001b[0m\n\u001b[1;32m      4\u001b[0m \u001b[0mpoint\u001b[0m \u001b[0;34m=\u001b[0m \u001b[0mPoint\u001b[0m\u001b[0;34m(\u001b[0m\u001b[0;36m0.5\u001b[0m\u001b[0;34m,\u001b[0m \u001b[0;36m0.5\u001b[0m\u001b[0;34m)\u001b[0m\u001b[0;34m\u001b[0m\u001b[0m\n\u001b[1;32m      5\u001b[0m \u001b[0mpolygon\u001b[0m \u001b[0;34m=\u001b[0m \u001b[0mPolygon\u001b[0m\u001b[0;34m(\u001b[0m\u001b[0;34m[\u001b[0m\u001b[0;34m(\u001b[0m\u001b[0;36m0\u001b[0m\u001b[0;34m,\u001b[0m \u001b[0;36m0\u001b[0m\u001b[0;34m)\u001b[0m\u001b[0;34m,\u001b[0m \u001b[0;34m(\u001b[0m\u001b[0;36m0\u001b[0m\u001b[0;34m,\u001b[0m \u001b[0;36m1\u001b[0m\u001b[0;34m)\u001b[0m\u001b[0;34m,\u001b[0m \u001b[0;34m(\u001b[0m\u001b[0;36m1\u001b[0m\u001b[0;34m,\u001b[0m \u001b[0;36m1\u001b[0m\u001b[0;34m)\u001b[0m\u001b[0;34m,\u001b[0m \u001b[0;34m(\u001b[0m\u001b[0;36m1\u001b[0m\u001b[0;34m,\u001b[0m \u001b[0;36m0\u001b[0m\u001b[0;34m)\u001b[0m\u001b[0;34m]\u001b[0m\u001b[0;34m)\u001b[0m\u001b[0;34m\u001b[0m\u001b[0m\n",
      "\u001b[0;31mImportError\u001b[0m: No module named shapely.geometry"
     ]
    }
   ],
   "source": [
    "from shapely.geometry import Point\n",
    "from shapely.geometry.polygon import Polygon\n",
    "\n",
    "point = Point(0.5, 0.5)\n",
    "polygon = Polygon([(0, 0), (0, 1), (1, 1), (1, 0)])\n",
    "print(polygon.contains(point))"
   ]
  }
 ],
 "metadata": {
  "kernelspec": {
   "display_name": "Python 2",
   "language": "python",
   "name": "python2"
  },
  "language_info": {
   "codemirror_mode": {
    "name": "ipython",
    "version": 2
   },
   "file_extension": ".py",
   "mimetype": "text/x-python",
   "name": "python",
   "nbconvert_exporter": "python",
   "pygments_lexer": "ipython2",
   "version": "2.7.12"
  }
 },
 "nbformat": 4,
 "nbformat_minor": 2
}
